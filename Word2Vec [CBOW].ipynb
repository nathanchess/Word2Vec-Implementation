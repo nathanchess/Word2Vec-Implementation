{
 "cells": [
  {
   "cell_type": "code",
   "execution_count": 1,
   "id": "601152be",
   "metadata": {},
   "outputs": [
    {
     "name": "stdout",
     "output_type": "stream",
     "text": [
      "Requirement already satisfied: nltk in c:\\users\\natha\\anaconda3\\lib\\site-packages (3.8.1)\n",
      "Requirement already satisfied: click in c:\\users\\natha\\anaconda3\\lib\\site-packages (from nltk) (8.0.4)\n",
      "Requirement already satisfied: joblib in c:\\users\\natha\\anaconda3\\lib\\site-packages (from nltk) (1.2.0)\n",
      "Requirement already satisfied: regex>=2021.8.3 in c:\\users\\natha\\anaconda3\\lib\\site-packages (from nltk) (2022.7.9)\n",
      "Requirement already satisfied: tqdm in c:\\users\\natha\\anaconda3\\lib\\site-packages (from nltk) (4.66.2)\n",
      "Requirement already satisfied: colorama in c:\\users\\natha\\anaconda3\\lib\\site-packages (from click->nltk) (0.4.6)\n",
      "Requirement already satisfied: torch in c:\\users\\natha\\anaconda3\\lib\\site-packages (2.2.1)\n",
      "Requirement already satisfied: filelock in c:\\users\\natha\\anaconda3\\lib\\site-packages (from torch) (3.9.0)\n",
      "Requirement already satisfied: typing-extensions>=4.8.0 in c:\\users\\natha\\anaconda3\\lib\\site-packages (from torch) (4.9.0)\n",
      "Requirement already satisfied: sympy in c:\\users\\natha\\anaconda3\\lib\\site-packages (from torch) (1.11.1)\n",
      "Requirement already satisfied: networkx in c:\\users\\natha\\anaconda3\\lib\\site-packages (from torch) (3.1)\n",
      "Requirement already satisfied: jinja2 in c:\\users\\natha\\anaconda3\\lib\\site-packages (from torch) (3.1.2)\n",
      "Requirement already satisfied: fsspec in c:\\users\\natha\\anaconda3\\lib\\site-packages (from torch) (2024.2.0)\n",
      "Requirement already satisfied: MarkupSafe>=2.0 in c:\\users\\natha\\anaconda3\\lib\\site-packages (from jinja2->torch) (2.1.1)\n",
      "Requirement already satisfied: mpmath>=0.19 in c:\\users\\natha\\anaconda3\\lib\\site-packages (from sympy->torch) (1.3.0)\n"
     ]
    }
   ],
   "source": [
    "!pip install nltk\n",
    "!pip install torch"
   ]
  },
  {
   "cell_type": "code",
   "execution_count": 3,
   "id": "035931c9",
   "metadata": {},
   "outputs": [
    {
     "name": "stdout",
     "output_type": "stream",
     "text": [
      "Text Corpus Uploaded\n"
     ]
    }
   ],
   "source": [
    "import random\n",
    "import os\n",
    "\n",
    "# Initial Corpus Dataset (randomization)\n",
    "\n",
    "dictionary = [\n",
    "    ['dog', 'cat', 'animal', 'goldfish', 'pet', 'house', 'sleep', 'play'],\n",
    "    ['lion', 'zebra', 'mammal', 'africa', 'elephant', 'cheetah', 'hunt', 'animal'],\n",
    "    ['crown', 'queen', 'king', 'kingdom', 'peasant', 'royal', 'country', 'rule', 'castle']\n",
    "]\n",
    "text_corpus = \"\"\n",
    "file_location = \"Datasets/text_corpus.txt\"\n",
    "iteration_count = 10000\n",
    "\n",
    "def shuffle_corpus(pos):\n",
    "    random.shuffle(dictionary[pos])\n",
    "    return ' ' + ' '.join(dictionary[pos])\n",
    "\n",
    "def generate_corpus(iterations, pos):\n",
    "    global text_corpus\n",
    "    for a in range(iterations):\n",
    "        add_string = shuffle_corpus(pos)\n",
    "        text_corpus += add_string\n",
    "\n",
    "for i in range(len(dictionary)):\n",
    "    generate_corpus(iteration_count, i)\n",
    "\n",
    "if os.path.exists(file_location):\n",
    "    os.remove(file_location) \n",
    "\n",
    "with open(file_location, 'w') as file:\n",
    "    file.write(text_corpus)\n",
    "\n",
    "print(\"Text Corpus Uploaded\")"
   ]
  },
  {
   "cell_type": "code",
   "execution_count": 2,
   "id": "dcd60595",
   "metadata": {},
   "outputs": [
    {
     "name": "stderr",
     "output_type": "stream",
     "text": [
      "[nltk_data] Downloading package stopwords to\n",
      "[nltk_data]     C:\\Users\\natha\\AppData\\Roaming\\nltk_data...\n",
      "[nltk_data]   Package stopwords is already up-to-date!\n"
     ]
    },
    {
     "name": "stdout",
     "output_type": "stream",
     "text": [
      "Context Words: ['pet', 'cat', 'play', 'house', 'animal', 'goldfish'], Target Word: dog\n",
      "Context Words: ['cat', 'play', 'dog', 'animal', 'goldfish', 'sleep'], Target Word: house\n",
      "Context Words: ['play', 'dog', 'house', 'goldfish', 'sleep', 'animal'], Target Word: animal\n",
      "Context Words: ['dog', 'house', 'animal', 'sleep', 'animal', 'sleep'], Target Word: goldfish\n",
      "Context Words: ['house', 'animal', 'goldfish', 'animal', 'sleep', 'house'], Target Word: sleep\n"
     ]
    }
   ],
   "source": [
    "import nltk\n",
    "from nltk.corpus import stopwords\n",
    "from nltk.tokenize import TreebankWordTokenizer\n",
    "\n",
    "nltk.download('stopwords')\n",
    "\n",
    "file_location = \"Datasets/text_corpus.txt\"\n",
    "text_corpus = \"\"\n",
    "with open(file_location, 'r') as file:\n",
    "    text_corpus = file.read()\n",
    "    \n",
    "# Text Normalization + Tokenization\n",
    "def generate_cbows(text, window_size):\n",
    "    text = text.lower()\n",
    "    words = TreebankWordTokenizer().tokenize(text)\n",
    "    words = [word for word in words if word.isalpha()]\n",
    "    stop_words = set(stopwords.words('english'))\n",
    "    words = [word for word in words if word not in stop_words]\n",
    "    \n",
    "    cbows = []\n",
    "    for i, target_word in enumerate(words):\n",
    "        context_words = words[max(0, i - window_size):i] + words[i + 1:i + window_size + 1]\n",
    "        if len(context_words) == window_size * 2:\n",
    "            cbows.append((context_words, target_word))\n",
    "    return cbows\n",
    "\n",
    "cbows = generate_cbows(text_corpus, window_size=3)\n",
    "\n",
    "for context_words, target_word in cbows[:5]:\n",
    "    print(f'Context Words: {context_words}, Target Word: {target_word}'  )"
   ]
  },
  {
   "cell_type": "code",
   "execution_count": 3,
   "id": "3999b224",
   "metadata": {},
   "outputs": [
    {
     "name": "stdout",
     "output_type": "stream",
     "text": [
      "[(tensor([0., 1., 0., 1., 0., 0., 0., 0., 0., 1., 1., 0., 0., 0., 0., 0., 0., 1.,\n",
      "        1., 0., 0., 0., 0., 0.]), tensor([0., 0., 0., 0., 0., 0., 0., 1., 0., 0., 0., 0., 0., 0., 0., 0., 0., 0.,\n",
      "        0., 0., 0., 0., 0., 0.]))]\n"
     ]
    }
   ],
   "source": [
    "import torch\n",
    "\n",
    "import nltk\n",
    "from nltk.corpus import stopwords\n",
    "from nltk.tokenize import TreebankWordTokenizer\n",
    "\n",
    "def find_unique_words(file_location):\n",
    "    text_corpus = \"\"\n",
    "    with open(file_location, 'r') as file:\n",
    "        text_corpus = file.read()\n",
    "    text_corpus = text_corpus.lower()\n",
    "    words = TreebankWordTokenizer().tokenize(text_corpus)\n",
    "    words = [word for word in words if word.isalpha()]\n",
    "    return sorted(set(words))\n",
    "    \n",
    "unique_words = find_unique_words(\"Datasets/text_corpus.txt\")\n",
    "\n",
    "# Converting context words and target word into one-hot encodings, then into torch tensors.\n",
    "\n",
    "def one_hot_encoding(word, unique_words):\n",
    "    encoding = [1 if word == i else 0 for i in unique_words]\n",
    "    return torch.tensor(encoding, dtype=torch.float32)\n",
    "    \n",
    "encodings = {word: one_hot_encoding(word, unique_words) for word in unique_words}\n",
    "\n",
    "cbow_vector_pairs = [([encodings[context_word] for context_word in context_words], encodings[target_word]) for context_words, target_word in cbows]\n",
    "cbow_vector_pairs = [(torch.sum(torch.stack(context_vectors), dim=0), target_vector) for context_vectors, target_vector in cbow_vector_pairs]\n",
    "print(cbow_vector_pairs[:1])"
   ]
  },
  {
   "cell_type": "code",
   "execution_count": null,
   "id": "799bab57",
   "metadata": {},
   "outputs": [],
   "source": [
    "import os\n",
    "import torch\n",
    "from torch import nn\n",
    "\n",
    "device = (\n",
    "    \"cuda\"\n",
    "    if torch.cuda.is_available()\n",
    "    else \"mps\"\n",
    "    if torch.backends.mps.is_available()\n",
    "    else \"cpu\"\n",
    ")\n",
    "print(f\"Using {device} device\")\n",
    "\n",
    "class NaiveWord2Vec(nn.Module):\n",
    "    def __init__(self, VOCAB_SIZE, VECTOR_DIM) -> None:\n",
    "        super().__init__()\n",
    "        self.vocab_size = VOCAB_SIZE\n",
    "        self.vector_dim = VECTOR_DIM\n",
    "        self.W1 = nn.Parameter(data=torch.randn(self.vocab_size, self.vector_dim), requires_grad=True)\n",
    "        self.W2 = nn.Parameter(data=torch.randn(self.vector_dim, self.vocab_size), requires_grad=True)\n",
    "        \n",
    "    def forward(self, x) -> torch.tensor:\n",
    "        X = X @ self.W1\n",
    "        X = X @ self.W2\n",
    "        return X\n",
    "    \n",
    "VOCAB_SIZE = len(unique_words)\n",
    "VECTOR_DIM = 2\n",
    "\n",
    "model = NaiveWord2Vec(VOCAB_SIZE, VECTOR_DIM)\n",
    "\n",
    "# Define train model function and convert tensors into PyTorch datasets\n",
    "\n",
    "def train_model():\n",
    "    loss_fn = nn.CrossEntropyLoss()\n",
    "    "
   ]
  }
 ],
 "metadata": {
  "kernelspec": {
   "display_name": "Python 3 (ipykernel)",
   "language": "python",
   "name": "python3"
  },
  "language_info": {
   "codemirror_mode": {
    "name": "ipython",
    "version": 3
   },
   "file_extension": ".py",
   "mimetype": "text/x-python",
   "name": "python",
   "nbconvert_exporter": "python",
   "pygments_lexer": "ipython3",
   "version": "3.11.5"
  }
 },
 "nbformat": 4,
 "nbformat_minor": 5
}
