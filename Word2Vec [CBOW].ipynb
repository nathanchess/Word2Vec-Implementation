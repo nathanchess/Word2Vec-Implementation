{
 "cells": [
  {
   "cell_type": "code",
   "execution_count": 1,
   "id": "601152be",
   "metadata": {},
   "outputs": [
    {
     "name": "stdout",
     "output_type": "stream",
     "text": [
      "Requirement already satisfied: nltk in c:\\users\\natha\\anaconda3\\lib\\site-packages (3.8.1)\n",
      "Requirement already satisfied: click in c:\\users\\natha\\anaconda3\\lib\\site-packages (from nltk) (8.0.4)\n",
      "Requirement already satisfied: joblib in c:\\users\\natha\\anaconda3\\lib\\site-packages (from nltk) (1.2.0)\n",
      "Requirement already satisfied: regex>=2021.8.3 in c:\\users\\natha\\anaconda3\\lib\\site-packages (from nltk) (2022.7.9)\n",
      "Requirement already satisfied: tqdm in c:\\users\\natha\\anaconda3\\lib\\site-packages (from nltk) (4.66.2)\n",
      "Requirement already satisfied: colorama in c:\\users\\natha\\anaconda3\\lib\\site-packages (from click->nltk) (0.4.6)\n",
      "Requirement already satisfied: torch in c:\\users\\natha\\anaconda3\\lib\\site-packages (2.2.1)\n",
      "Requirement already satisfied: filelock in c:\\users\\natha\\anaconda3\\lib\\site-packages (from torch) (3.9.0)\n",
      "Requirement already satisfied: typing-extensions>=4.8.0 in c:\\users\\natha\\anaconda3\\lib\\site-packages (from torch) (4.9.0)\n",
      "Requirement already satisfied: sympy in c:\\users\\natha\\anaconda3\\lib\\site-packages (from torch) (1.11.1)\n",
      "Requirement already satisfied: networkx in c:\\users\\natha\\anaconda3\\lib\\site-packages (from torch) (3.1)\n",
      "Requirement already satisfied: jinja2 in c:\\users\\natha\\anaconda3\\lib\\site-packages (from torch) (3.1.2)\n",
      "Requirement already satisfied: fsspec in c:\\users\\natha\\anaconda3\\lib\\site-packages (from torch) (2024.2.0)\n",
      "Requirement already satisfied: MarkupSafe>=2.0 in c:\\users\\natha\\anaconda3\\lib\\site-packages (from jinja2->torch) (2.1.1)\n",
      "Requirement already satisfied: mpmath>=0.19 in c:\\users\\natha\\anaconda3\\lib\\site-packages (from sympy->torch) (1.3.0)\n"
     ]
    }
   ],
   "source": [
    "!pip install nltk\n",
    "!pip install torch"
   ]
  },
  {
   "cell_type": "code",
   "execution_count": 3,
   "id": "035931c9",
   "metadata": {},
   "outputs": [
    {
     "name": "stdout",
     "output_type": "stream",
     "text": [
      "Text Corpus Uploaded\n"
     ]
    }
   ],
   "source": [
    "import random\n",
    "import os\n",
    "\n",
    "# Initial Corpus Dataset (randomization)\n",
    "\n",
    "dictionary = [\n",
    "    ['dog', 'cat', 'animal', 'goldfish', 'pet', 'house', 'sleep', 'play'],\n",
    "    ['lion', 'zebra', 'mammal', 'africa', 'elephant', 'cheetah', 'hunt', 'animal'],\n",
    "    ['crown', 'queen', 'king', 'kingdom', 'peasant', 'royal', 'country', 'rule', 'castle']\n",
    "]\n",
    "text_corpus = \"\"\n",
    "file_location = \"Datasets/text_corpus.txt\"\n",
    "iteration_count = 10000\n",
    "\n",
    "def shuffle_corpus(pos):\n",
    "    random.shuffle(dictionary[pos])\n",
    "    return ' ' + ' '.join(dictionary[pos])\n",
    "\n",
    "def generate_corpus(iterations, pos):\n",
    "    global text_corpus\n",
    "    for a in range(iterations):\n",
    "        add_string = shuffle_corpus(pos)\n",
    "        text_corpus += add_string\n",
    "\n",
    "for i in range(len(dictionary)):\n",
    "    generate_corpus(iteration_count, i)\n",
    "\n",
    "if os.path.exists(file_location):\n",
    "    os.remove(file_location) \n",
    "\n",
    "with open(file_location, 'w') as file:\n",
    "    file.write(text_corpus)\n",
    "\n",
    "print(\"Text Corpus Uploaded\")"
   ]
  },
  {
   "cell_type": "code",
   "execution_count": 2,
   "id": "dcd60595",
   "metadata": {},
   "outputs": [
    {
     "name": "stderr",
     "output_type": "stream",
     "text": [
      "[nltk_data] Downloading package stopwords to\n",
      "[nltk_data]     C:\\Users\\natha\\AppData\\Roaming\\nltk_data...\n",
      "[nltk_data]   Package stopwords is already up-to-date!\n"
     ]
    },
    {
     "name": "stdout",
     "output_type": "stream",
     "text": [
      "Context Words: ['pet', 'cat', 'play', 'house', 'animal', 'goldfish'], Target Word: dog\n",
      "Context Words: ['cat', 'play', 'dog', 'animal', 'goldfish', 'sleep'], Target Word: house\n",
      "Context Words: ['play', 'dog', 'house', 'goldfish', 'sleep', 'animal'], Target Word: animal\n",
      "Context Words: ['dog', 'house', 'animal', 'sleep', 'animal', 'sleep'], Target Word: goldfish\n",
      "Context Words: ['house', 'animal', 'goldfish', 'animal', 'sleep', 'house'], Target Word: sleep\n"
     ]
    }
   ],
   "source": [
    "import nltk\n",
    "from nltk.corpus import stopwords\n",
    "from nltk.tokenize import TreebankWordTokenizer\n",
    "\n",
    "nltk.download('stopwords')\n",
    "\n",
    "file_location = \"Datasets/text_corpus.txt\"\n",
    "text_corpus = \"\"\n",
    "with open(file_location, 'r') as file:\n",
    "    text_corpus = file.read()\n",
    "    \n",
    "# Text Normalization + Tokenization\n",
    "def generate_cbows(text, window_size):\n",
    "    text = text.lower()\n",
    "    words = TreebankWordTokenizer().tokenize(text)\n",
    "    words = [word for word in words if word.isalpha()]\n",
    "    stop_words = set(stopwords.words('english'))\n",
    "    words = [word for word in words if word not in stop_words]\n",
    "    \n",
    "    cbows = []\n",
    "    for i, target_word in enumerate(words):\n",
    "        context_words = words[max(0, i - window_size):i] + words[i + 1:i + window_size + 1]\n",
    "        if len(context_words) == window_size * 2:\n",
    "            cbows.append((context_words, target_word))\n",
    "    return cbows\n",
    "\n",
    "cbows = generate_cbows(text_corpus, window_size=3)\n",
    "\n",
    "for context_words, target_word in cbows[:5]:\n",
    "    print(f'Context Words: {context_words}, Target Word: {target_word}'  )"
   ]
  },
  {
   "cell_type": "code",
   "execution_count": 5,
   "id": "3999b224",
   "metadata": {},
   "outputs": [
    {
     "name": "stdout",
     "output_type": "stream",
     "text": [
      "[(tensor([0., 1., 0., 1., 0., 0., 0., 0., 0., 1., 1., 0., 0., 0., 0., 0., 0., 1.,\n",
      "        1., 0., 0., 0., 0., 0.]), tensor([0., 0., 0., 0., 0., 0., 0., 1., 0., 0., 0., 0., 0., 0., 0., 0., 0., 0.,\n",
      "        0., 0., 0., 0., 0., 0.]))]\n"
     ]
    }
   ],
   "source": [
    "import torch\n",
    "\n",
    "import nltk\n",
    "from nltk.corpus import stopwords\n",
    "from nltk.tokenize import TreebankWordTokenizer\n",
    "\n",
    "def find_unique_words(file_location):\n",
    "    text_corpus = \"\"\n",
    "    with open(file_location, 'r') as file:\n",
    "        text_corpus = file.read()\n",
    "    text_corpus = text_corpus.lower()\n",
    "    words = TreebankWordTokenizer().tokenize(text_corpus)\n",
    "    words = [word for word in words if word.isalpha()]\n",
    "    return sorted(set(words))\n",
    "    \n",
    "unique_words = find_unique_words(\"Datasets/text_corpus.txt\")\n",
    "\n",
    "# Converting context words and target word into one-hot encodings, then into torch tensors.\n",
    "\n",
    "def one_hot_encoding(word, unique_words):\n",
    "    encoding = [1 if word == i else 0 for i in unique_words]\n",
    "    return torch.tensor(encoding, dtype=torch.float32)\n",
    "    \n",
    "encodings = {word: one_hot_encoding(word, unique_words) for word in unique_words}\n",
    "\n",
    "cbow_vector_pairs = [([encodings[context_word] for context_word in context_words], encodings[target_word]) for context_words, target_word in cbows]\n",
    "cbow_vector_pairs = [(torch.sum(torch.stack(context_vectors), dim=0), target_vector) for context_vectors, target_vector in cbow_vector_pairs]\n",
    "print(cbow_vector_pairs[:1])"
   ]
  },
  {
   "cell_type": "code",
   "execution_count": 4,
   "id": "934d16ed",
   "metadata": {},
   "outputs": [
    {
     "name": "stdout",
     "output_type": "stream",
     "text": [
      "Data Loaded.\n"
     ]
    }
   ],
   "source": [
    "import torch\n",
    "import random\n",
    "from torch.utils.data import Dataset, DataLoader\n",
    "\n",
    "class WordDataset(Dataset):\n",
    "    def __init__(self, tensors, transform=None):\n",
    "        self.inputs = [tensor[0] for tensor in tensors]\n",
    "        self.outputs = [tensor[1] for tensor in tensors]\n",
    "        self.transform = transform\n",
    "    \n",
    "    def __getitem__(self, idx):\n",
    "        return self.inputs[idx], self.outputs[idx]\n",
    "    \n",
    "    def __len__(self):\n",
    "        return len(self.inputs)\n",
    "    \n",
    "random.shuffle(cbow_vector_pairs)\n",
    "split_index = int(len(cbow_vector_pairs) * .9)\n",
    "\n",
    "train_dataset = WordDataset(cbow_vector_pairs[split_index:])\n",
    "test_dataset = WordDataset(cbow_vector_pairs[:split_index] )\n",
    "train_dataloader = DataLoader(train_dataset, batch_size=64, shuffle=True)\n",
    "test_dataloader = DataLoader(test_dataset, batch_size=64, shuffle=False)\n",
    "\n",
    "print(\"Data Loaded.\")"
   ]
  },
  {
   "cell_type": "code",
   "execution_count": 11,
   "id": "799bab57",
   "metadata": {},
   "outputs": [
    {
     "name": "stdout",
     "output_type": "stream",
     "text": [
      "Using cpu device\n",
      "Epoch: 0\n",
      "Train Loss:  2.7726370611459092 ||| Validation Loss:  2.116925833880291\n",
      "Epoch: 1\n",
      "Train Loss:  2.0915605671265545 ||| Validation Loss:  2.079321177881868\n",
      "Epoch: 2\n",
      "Train Loss:  2.077547168487783 ||| Validation Loss:  2.07423402302908\n",
      "Epoch: 3\n",
      "Train Loss:  2.0741955901655698 ||| Validation Loss:  2.0735276527575666\n",
      "Epoch: 4\n",
      "Train Loss:  2.070113880250155 ||| Validation Loss:  2.076956768559379\n",
      "Epoch: 5\n",
      "Train Loss:  2.0693071656824684 ||| Validation Loss:  2.0744971709921365\n",
      "Epoch: 6\n",
      "Train Loss:  2.0694124534002047 ||| Validation Loss:  2.074785241427004\n",
      "Epoch: 7\n",
      "Train Loss:  2.066324754749113 ||| Validation Loss:  2.068360312806868\n",
      "Epoch: 8\n",
      "Train Loss:  2.0655256119530523 ||| Validation Loss:  2.0665789988396246\n",
      "Epoch: 9\n",
      "Train Loss:  2.065265933266076 ||| Validation Loss:  2.0672155797684963\n"
     ]
    }
   ],
   "source": [
    "import os\n",
    "import torch\n",
    "from torch import nn\n",
    "\n",
    "device = (\n",
    "    \"cuda\"\n",
    "    if torch.cuda.is_available()\n",
    "    else \"mps\"\n",
    "    if torch.backends.mps.is_available()\n",
    "    else \"cpu\"\n",
    ")\n",
    "print(f\"Using {device} device\")\n",
    "\n",
    "class NaiveWord2Vec(nn.Module):\n",
    "    def __init__(self, VOCAB_SIZE, VECTOR_DIM) -> None:\n",
    "        super().__init__()\n",
    "        self.vocab_size = VOCAB_SIZE\n",
    "        self.vector_dim = VECTOR_DIM\n",
    "        self.W1 = nn.Parameter(data=torch.randn(self.vocab_size, self.vector_dim), requires_grad=True)\n",
    "        self.W2 = nn.Parameter(data=torch.randn(self.vector_dim, self.vocab_size), requires_grad=True)\n",
    "        \n",
    "    def forward(self, X) -> torch.tensor:\n",
    "        X = X @ self.W1\n",
    "        X = X @ self.W2\n",
    "        return X\n",
    "    \n",
    "VOCAB_SIZE = len(unique_words)\n",
    "VECTOR_DIM = 2\n",
    "\n",
    "model = NaiveWord2Vec(VOCAB_SIZE, VECTOR_DIM)\n",
    "\n",
    "def train_model(model, train_dataloader, test_dataloader, epochs, learning_rate, verbose=False):\n",
    "    loss_fn = nn.CrossEntropyLoss()\n",
    "    optimizer = torch.optim.Adam(params=model.parameters(), lr=learning_rate)\n",
    "    \n",
    "    train_set_loss_log = []\n",
    "    validation_set_loss_log = []\n",
    "    \n",
    "    for epoch in range(epochs):\n",
    "        \n",
    "        if verbose: print('Epoch: ' + str(epoch))\n",
    "            \n",
    "        model.train()\n",
    "        total_train_loss = 0.0\n",
    "        num_train_batches = 0\n",
    "        \n",
    "        for input_batch, output_batch in train_dataloader:\n",
    "            train_logits = model(input_batch)\n",
    "            train_loss = loss_fn(train_logits, output_batch)\n",
    "            \n",
    "            optimizer.zero_grad()\n",
    "            train_loss.backward()\n",
    "            optimizer.step()\n",
    "            \n",
    "            total_train_loss += train_loss.item()\n",
    "            num_train_batches += 1\n",
    "        \n",
    "        average_train_loss = total_train_loss / num_train_batches\n",
    "        train_set_loss_log.append(average_train_loss)\n",
    "        \n",
    "        model.eval()\n",
    "        total_validation_loss = 0.0\n",
    "        num_validation_batches = 0\n",
    "        \n",
    "        with torch.inference_mode():\n",
    "            for input_batch, output_batch in test_dataloader:\n",
    "                val_logits = model(input_batch)\n",
    "                val_loss = loss_fn(val_logits, output_batch)\n",
    "                \n",
    "                total_validation_loss += val_loss.item()\n",
    "                num_validation_batches += 1\n",
    "                \n",
    "        average_validation_loss = total_validation_loss / num_validation_batches\n",
    "        validation_set_loss_log.append(average_validation_loss) \n",
    "        \n",
    "        if verbose: print(\"Train Loss: \", average_train_loss, \"|||\", \"Validation Loss: \", average_validation_loss)\n",
    "\n",
    "    return model, train_set_loss_log, validation_set_loss_log\n",
    "            \n",
    "model, train_set_loss_log, validation_set_loss_log = train_model(model, train_dataloader, test_dataloader, epochs=10, learning_rate=.01, verbose=True)\n"
   ]
  },
  {
   "cell_type": "code",
   "execution_count": 13,
   "id": "0308c203",
   "metadata": {},
   "outputs": [
    {
     "name": "stdout",
     "output_type": "stream",
     "text": [
      "{'africa': tensor([-0.1108, -0.7904]), 'animal': tensor([-0.4560,  0.8001]), 'castle': tensor([0.2781, 0.0976]), 'cat': tensor([ 1.2299, -0.5213]), 'cheetah': tensor([-0.1384, -2.2593]), 'country': tensor([-0.5909,  0.9916]), 'crown': tensor([0.3561, 0.3729]), 'dog': tensor([1.3834, 0.1118]), 'elephant': tensor([-0.5861, -1.3387]), 'goldfish': tensor([ 1.4978, -0.3157]), 'house': tensor([ 0.7223, -0.4670]), 'hunt': tensor([-0.3729, -0.7638]), 'king': tensor([-0.1143,  0.7030]), 'kingdom': tensor([-0.9297,  0.7860]), 'lion': tensor([-0.0607, -0.7938]), 'mammal': tensor([-0.0141, -0.7620]), 'peasant': tensor([0.8523, 3.0673]), 'pet': tensor([0.8130, 0.0199]), 'play': tensor([ 0.9937, -0.4754]), 'queen': tensor([-1.0422,  0.9143]), 'royal': tensor([-0.2658,  0.1574]), 'rule': tensor([0.1139, 0.2867]), 'sleep': tensor([ 1.6559, -0.2819]), 'zebra': tensor([-0.3422, -0.4741])}\n"
     ]
    }
   ],
   "source": [
    "parameters = list(model.parameters())\n",
    "word_vectors = parameters[0].detach()\n",
    "word_dictionary = {word: vector for word, vector in zip(unique_words, word_vectors) }\n",
    "print(word_dictionary)"
   ]
  },
  {
   "cell_type": "code",
   "execution_count": null,
   "id": "4a4e7cb1",
   "metadata": {},
   "outputs": [],
   "source": []
  }
 ],
 "metadata": {
  "kernelspec": {
   "display_name": "Python 3 (ipykernel)",
   "language": "python",
   "name": "python3"
  },
  "language_info": {
   "codemirror_mode": {
    "name": "ipython",
    "version": 3
   },
   "file_extension": ".py",
   "mimetype": "text/x-python",
   "name": "python",
   "nbconvert_exporter": "python",
   "pygments_lexer": "ipython3",
   "version": "3.11.5"
  }
 },
 "nbformat": 4,
 "nbformat_minor": 5
}
